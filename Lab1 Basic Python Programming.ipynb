{
 "cells": [
  {
   "cell_type": "markdown",
   "id": "be0cdf05",
   "metadata": {},
   "source": [
    "# BASIC COMMAND OF NUMPY "
   ]
  },
  {
   "cell_type": "code",
   "execution_count": 21,
   "id": "2510eb2a",
   "metadata": {},
   "outputs": [],
   "source": [
    "import numpy as np\n",
    "import sys"
   ]
  },
  {
   "cell_type": "code",
   "execution_count": 137,
   "id": "65cf538d",
   "metadata": {},
   "outputs": [
    {
     "name": "stdout",
     "output_type": "stream",
     "text": [
      "(3,)\n",
      "[[1]\n",
      " [2]\n",
      " [3]]\n",
      "[1 2 3]\n",
      "[1 2 3]\n",
      "int64\n",
      "1\n",
      "2\n",
      "1\n",
      "3\n",
      "8 bytes\n"
     ]
    }
   ],
   "source": [
    "# basic command to create array with numpy\n",
    "a = np.array([1,2,3])\n",
    "A = np.reshape(a, (3,1))\n",
    "print(A)\n",
    "print(a)\n",
    "\n",
    "# define kind of variable\n",
    "b = np.array([1,2,3],dtype='int32')\n",
    "\n",
    "# create 2D array\n",
    "c = np.array([[1,2,3,4,5,6,7,8,9,10,11,12,13,14,15,16,17],[11,12,13,14,15,16,17,18,19,11,12,13,14,15,16,17,18]])\n",
    "# print matrix\n",
    "print(a)\n",
    "\n",
    "# print type\n",
    "print(a.dtype)\n",
    "\n",
    "# print dimension of array\n",
    "print(a.ndim)\n",
    "print(c.ndim)\n",
    "\n",
    "# access data in array with index\n",
    "print(a[0])\n",
    "\n",
    "# access data of array 2D c[row,column]#\n",
    "print(c[0,2])\n",
    "\n",
    "# print size of array\n",
    "print(a.itemsize , \"bytes\")"
   ]
  },
  {
   "cell_type": "markdown",
   "id": "0bad810e",
   "metadata": {},
   "source": [
    "### How are Lists different from Numpy ?"
   ]
  },
  {
   "cell_type": "markdown",
   "id": "a8cb4690",
   "metadata": {},
   "source": [
    "Numpy is faster than list"
   ]
  },
  {
   "cell_type": "code",
   "execution_count": 26,
   "id": "be17ac41",
   "metadata": {},
   "outputs": [
    {
     "name": "stdout",
     "output_type": "stream",
     "text": [
      "[ 4 10 18]\n"
     ]
    }
   ],
   "source": [
    "a1 = np.array([4,5,6])\n",
    "print(a * a1)"
   ]
  },
  {
   "cell_type": "code",
   "execution_count": 29,
   "id": "bc58985d",
   "metadata": {},
   "outputs": [
    {
     "data": {
      "text/plain": [
       "array([1, 2, 3])"
      ]
     },
     "execution_count": 29,
     "metadata": {},
     "output_type": "execute_result"
    }
   ],
   "source": [
    "# get a specific row\n",
    "c[0,:]"
   ]
  },
  {
   "cell_type": "code",
   "execution_count": 31,
   "id": "348e485a",
   "metadata": {},
   "outputs": [
    {
     "data": {
      "text/plain": [
       "array([2, 5])"
      ]
     },
     "execution_count": 31,
     "metadata": {},
     "output_type": "execute_result"
    }
   ],
   "source": [
    "# get a specific column\n",
    "c[:,1]"
   ]
  },
  {
   "cell_type": "code",
   "execution_count": 61,
   "id": "b2287608",
   "metadata": {},
   "outputs": [
    {
     "name": "stdout",
     "output_type": "stream",
     "text": [
      "[ 2  5  8 11 14 17]\n",
      "[ 2  5  8 11 14]\n"
     ]
    }
   ],
   "source": [
    "# get a little more fancy [startindex:endindex:stepsize]#\n",
    "# if we use endindex -1 it will access on starting index to index that stay before last index\n",
    "print(c[0,1:17:3])\n",
    "print(c[0,1:-1:3])"
   ]
  },
  {
   "cell_type": "code",
   "execution_count": 65,
   "id": "8b558d6b",
   "metadata": {},
   "outputs": [
    {
     "name": "stdout",
     "output_type": "stream",
     "text": [
      "[[ 1  2  0  4  5  6  7  8  9 10 11 12 13 14 15 16 17]\n",
      " [11 12  0 14 15  0 17 18 19 11 12 13 14 15 16 17 18]]\n",
      "[[ 1  2  0  4  5  6  7  8  9 10 11 12 13 14 15 16 17]\n",
      " [11 12  0 14 15  0 17 18 19 11 12 13 14 15 16 17 18]]\n",
      "[[  1 100   0   4   5   6   7   8   9  10  11  12  13  14  15  16  17]\n",
      " [ 11 200   0  14  15   0  17  18  19  11  12  13  14  15  16  17  18]]\n"
     ]
    }
   ],
   "source": [
    "# changing value in array\n",
    "c[1,5] = 0\n",
    "print(c)\n",
    "\n",
    "# if we want to change value of index more than 1 in 1 command\n",
    "c[:,2] = 0\n",
    "print(c)\n",
    "\n",
    "c[:,1] = [100,200]\n",
    "print(c)"
   ]
  },
  {
   "cell_type": "code",
   "execution_count": 69,
   "id": "3d3bdd37",
   "metadata": {},
   "outputs": [
    {
     "name": "stdout",
     "output_type": "stream",
     "text": [
      "[[[ 1  2  3]\n",
      "  [ 4  5  6]]\n",
      "\n",
      " [[11 12 13]\n",
      "  [14 15 16]]]\n"
     ]
    }
   ],
   "source": [
    "# array 3D\n",
    "d = np.array([ [[1,2,3],[4,5,6]] , [[11,12,13],[14,15,16]] ])\n",
    "print(d)"
   ]
  },
  {
   "cell_type": "code",
   "execution_count": 72,
   "id": "84070462",
   "metadata": {},
   "outputs": [
    {
     "name": "stdout",
     "output_type": "stream",
     "text": [
      "8\n",
      "[[[ 1  2  3]\n",
      "  [ 9  9  9]]\n",
      "\n",
      " [[11 12 13]\n",
      "  [ 8  8  8]]]\n"
     ]
    }
   ],
   "source": [
    "# get a specific element\n",
    "print(d[1,1,2])\n",
    "\n",
    "# replace\n",
    "d[:,1,:] = [[9,9,9],[8,8,8]]\n",
    "print(d)"
   ]
  },
  {
   "cell_type": "code",
   "execution_count": 76,
   "id": "f25ebe7e",
   "metadata": {},
   "outputs": [
    {
     "data": {
      "text/plain": [
       "array([[0., 0., 0.],\n",
       "       [0., 0., 0.]])"
      ]
     },
     "execution_count": 76,
     "metadata": {},
     "output_type": "execute_result"
    }
   ],
   "source": [
    "# All 0s matrix\n",
    "# (something,something) is tuple and tuple is not have ability to assignment item\n",
    "# [something,something] is list\n",
    "np.zeros((2,3))"
   ]
  },
  {
   "cell_type": "code",
   "execution_count": 77,
   "id": "406e7ae8",
   "metadata": {},
   "outputs": [
    {
     "data": {
      "text/plain": [
       "array([[1., 1., 1.],\n",
       "       [1., 1., 1.]])"
      ]
     },
     "execution_count": 77,
     "metadata": {},
     "output_type": "execute_result"
    }
   ],
   "source": [
    "# All 1s matrix\n",
    "np.ones((2,3))"
   ]
  },
  {
   "cell_type": "code",
   "execution_count": 81,
   "id": "76e3832d",
   "metadata": {},
   "outputs": [
    {
     "name": "stdout",
     "output_type": "stream",
     "text": [
      "[[[0 0 0]\n",
      "  [0 0 0]]\n",
      "\n",
      " [[0 0 0]\n",
      "  [0 0 0]]\n",
      "\n",
      " [[0 0 0]\n",
      "  [0 0 0]]\n",
      "\n",
      " [[0 0 0]\n",
      "  [0 0 0]]]\n"
     ]
    }
   ],
   "source": [
    "d = np.zeros((4,2,3),dtype='int32')\n",
    "print(d)"
   ]
  },
  {
   "cell_type": "code",
   "execution_count": 82,
   "id": "fa1f1e47",
   "metadata": {},
   "outputs": [
    {
     "data": {
      "text/plain": [
       "array([[99, 99],\n",
       "       [99, 99]])"
      ]
     },
     "execution_count": 82,
     "metadata": {},
     "output_type": "execute_result"
    }
   ],
   "source": [
    "# fill any number\n",
    "np.full((2,2),99)"
   ]
  },
  {
   "cell_type": "code",
   "execution_count": 84,
   "id": "fd12d48c",
   "metadata": {},
   "outputs": [
    {
     "data": {
      "text/plain": [
       "array([[[4, 4, 4],\n",
       "        [4, 4, 4]],\n",
       "\n",
       "       [[4, 4, 4],\n",
       "        [4, 4, 4]],\n",
       "\n",
       "       [[4, 4, 4],\n",
       "        [4, 4, 4]],\n",
       "\n",
       "       [[4, 4, 4],\n",
       "        [4, 4, 4]]], dtype=int32)"
      ]
     },
     "execution_count": 84,
     "metadata": {},
     "output_type": "execute_result"
    }
   ],
   "source": [
    "# change all value in matrix (array,number)#\n",
    "np.full_like(d,4)"
   ]
  },
  {
   "cell_type": "code",
   "execution_count": 86,
   "id": "2e52e28f",
   "metadata": {},
   "outputs": [
    {
     "data": {
      "text/plain": [
       "array([[0.47587825, 0.40524882],\n",
       "       [0.39515554, 0.45255649],\n",
       "       [0.74176706, 0.51629972],\n",
       "       [0.76746071, 0.82849059]])"
      ]
     },
     "execution_count": 86,
     "metadata": {},
     "output_type": "execute_result"
    }
   ],
   "source": [
    "# random decimal number (row,column)\n",
    "np.random.rand(4,2)"
   ]
  },
  {
   "cell_type": "code",
   "execution_count": 87,
   "id": "4e5acea5",
   "metadata": {},
   "outputs": [
    {
     "data": {
      "text/plain": [
       "array([[[4.93011136e-01, 2.40075797e-01],\n",
       "        [4.82263733e-01, 5.88632374e-01],\n",
       "        [6.88805587e-01, 1.83794101e-01],\n",
       "        [4.33621944e-01, 7.17071645e-04]],\n",
       "\n",
       "       [[1.06281286e-01, 5.47921639e-01],\n",
       "        [1.70525412e-01, 1.73027564e-01],\n",
       "        [9.20917264e-01, 8.20166120e-01],\n",
       "        [6.20774364e-01, 8.06606628e-01]],\n",
       "\n",
       "       [[7.92236516e-01, 1.94224616e-01],\n",
       "        [4.06803253e-01, 4.72863835e-01],\n",
       "        [2.65821226e-01, 3.36717457e-01],\n",
       "        [4.01817630e-01, 4.28616204e-01]]])"
      ]
     },
     "execution_count": 87,
     "metadata": {},
     "output_type": "execute_result"
    }
   ],
   "source": [
    "# random decimal number (number of matrix,row,column)\n",
    "np.random.rand(3,4,2)"
   ]
  },
  {
   "cell_type": "code",
   "execution_count": 89,
   "id": "258b6c6c",
   "metadata": {},
   "outputs": [
    {
     "data": {
      "text/plain": [
       "array([[[0.24110618, 0.8506047 , 0.49169451],\n",
       "        [0.94792479, 0.51518098, 0.93821264]],\n",
       "\n",
       "       [[0.60576107, 0.45601358, 0.66344603],\n",
       "        [0.5620743 , 0.07218268, 0.22909232]],\n",
       "\n",
       "       [[0.56781966, 0.86073464, 0.86587618],\n",
       "        [0.94971361, 0.28274644, 0.85403123]],\n",
       "\n",
       "       [[0.13769481, 0.25009365, 0.60419531],\n",
       "        [0.67458934, 0.11003918, 0.57387394]]])"
      ]
     },
     "execution_count": 89,
     "metadata": {},
     "output_type": "execute_result"
    }
   ],
   "source": [
    "# random with dimension of d\n",
    "np.random.random_sample(d.shape)"
   ]
  },
  {
   "cell_type": "code",
   "execution_count": 92,
   "id": "5b08a1b7",
   "metadata": {},
   "outputs": [
    {
     "data": {
      "text/plain": [
       "array([[0, 0, 0],\n",
       "       [0, 0, 0],\n",
       "       [1, 0, 1]])"
      ]
     },
     "execution_count": 92,
     "metadata": {},
     "output_type": "execute_result"
    }
   ],
   "source": [
    "# random integer value (maximum value,size)\n",
    "np.random.randint(7,size=(3,3))"
   ]
  },
  {
   "cell_type": "code",
   "execution_count": 93,
   "id": "27c1f47a",
   "metadata": {},
   "outputs": [
    {
     "data": {
      "text/plain": [
       "array([[1., 0., 0.],\n",
       "       [0., 1., 0.],\n",
       "       [0., 0., 1.]])"
      ]
     },
     "execution_count": 93,
     "metadata": {},
     "output_type": "execute_result"
    }
   ],
   "source": [
    "# create identity matrix\n",
    "np.identity(3)"
   ]
  },
  {
   "cell_type": "code",
   "execution_count": 94,
   "id": "6b81a9a7",
   "metadata": {},
   "outputs": [
    {
     "data": {
      "text/plain": [
       "array([[1., 0., 0., 0., 0.],\n",
       "       [0., 1., 0., 0., 0.],\n",
       "       [0., 0., 1., 0., 0.],\n",
       "       [0., 0., 0., 1., 0.],\n",
       "       [0., 0., 0., 0., 1.]])"
      ]
     },
     "execution_count": 94,
     "metadata": {},
     "output_type": "execute_result"
    }
   ],
   "source": [
    "np.identity(5)"
   ]
  },
  {
   "cell_type": "code",
   "execution_count": 99,
   "id": "b4e69b2f",
   "metadata": {},
   "outputs": [
    {
     "name": "stdout",
     "output_type": "stream",
     "text": [
      "[1 1 1 1 2 2 2 2 3 3 3 3]\n"
     ]
    }
   ],
   "source": [
    "arr = np.array([1,2,3])\n",
    "# (array,number of repetitions,axis)\n",
    "r1 = np.repeat(arr,4,axis=0)\n",
    "print(r1)"
   ]
  },
  {
   "cell_type": "code",
   "execution_count": 100,
   "id": "61cded0e",
   "metadata": {},
   "outputs": [
    {
     "name": "stdout",
     "output_type": "stream",
     "text": [
      "[[1 2 3]\n",
      " [1 2 3]\n",
      " [1 2 3]\n",
      " [1 2 3]]\n"
     ]
    }
   ],
   "source": [
    "arr = np.array([[1,2,3]])\n",
    "# (array,number of repetitions,axis)\n",
    "r1 = np.repeat(arr,4,axis=0)\n",
    "print(r1)"
   ]
  },
  {
   "cell_type": "code",
   "execution_count": 115,
   "id": "da692568",
   "metadata": {},
   "outputs": [
    {
     "name": "stdout",
     "output_type": "stream",
     "text": [
      "[[1. 1. 1. 1. 1.]\n",
      " [1. 1. 1. 1. 1.]\n",
      " [1. 1. 1. 1. 1.]\n",
      " [1. 1. 1. 1. 1.]\n",
      " [1. 1. 1. 1. 1.]]\n",
      "[[0. 0. 0.]\n",
      " [0. 0. 0.]\n",
      " [0. 0. 0.]]\n",
      "[[1. 1. 1. 1. 1.]\n",
      " [1. 0. 0. 0. 1.]\n",
      " [1. 0. 0. 0. 1.]\n",
      " [1. 0. 0. 0. 1.]\n",
      " [1. 1. 1. 1. 1.]]\n"
     ]
    }
   ],
   "source": [
    "output = np.ones((5,5))\n",
    "r1 = np.zeros((3,3))\n",
    "print(output)\n",
    "print(r1)\n",
    "\n",
    "output[1:4,1:4] = r1\n",
    "print(output)"
   ]
  },
  {
   "cell_type": "code",
   "execution_count": 118,
   "id": "c509c837",
   "metadata": {},
   "outputs": [
    {
     "name": "stdout",
     "output_type": "stream",
     "text": [
      "[[1. 1. 1.]\n",
      " [1. 1. 1.]]\n",
      "[[2 2]\n",
      " [2 2]\n",
      " [2 2]]\n",
      "[[6. 6.]\n",
      " [6. 6.]]\n"
     ]
    }
   ],
   "source": [
    "# matrix multiplication\n",
    "a1 = np.ones((2,3))\n",
    "print(a1)\n",
    "a2 = np.full((3,2),2)\n",
    "print(a2)\n",
    "ans = np.matmul(a1,a2)\n",
    "print(ans)"
   ]
  },
  {
   "cell_type": "code",
   "execution_count": 120,
   "id": "b5924e27",
   "metadata": {},
   "outputs": [
    {
     "data": {
      "text/plain": [
       "1.0"
      ]
     },
     "execution_count": 120,
     "metadata": {},
     "output_type": "execute_result"
    }
   ],
   "source": [
    "# find det\n",
    "a1 = np.identity(3)\n",
    "np.linalg.det(a1)"
   ]
  },
  {
   "cell_type": "markdown",
   "id": "6ce1d9ca",
   "metadata": {},
   "source": [
    "#### Statistics"
   ]
  },
  {
   "cell_type": "code",
   "execution_count": 123,
   "id": "47879009",
   "metadata": {},
   "outputs": [
    {
     "data": {
      "text/plain": [
       "1"
      ]
     },
     "execution_count": 123,
     "metadata": {},
     "output_type": "execute_result"
    }
   ],
   "source": [
    "# find min\n",
    "stat = np.array([[1,2,3],[4,5,6]])\n",
    "np.min(stat)"
   ]
  },
  {
   "cell_type": "code",
   "execution_count": 124,
   "id": "0b66d343",
   "metadata": {},
   "outputs": [
    {
     "data": {
      "text/plain": [
       "6"
      ]
     },
     "execution_count": 124,
     "metadata": {},
     "output_type": "execute_result"
    }
   ],
   "source": [
    "# find max\n",
    "stat = np.array([[1,2,3],[4,5,6]])\n",
    "np.max(stat)"
   ]
  },
  {
   "cell_type": "code",
   "execution_count": 127,
   "id": "8fc29919",
   "metadata": {},
   "outputs": [
    {
     "data": {
      "text/plain": [
       "array([3, 6])"
      ]
     },
     "execution_count": 127,
     "metadata": {},
     "output_type": "execute_result"
    }
   ],
   "source": [
    "# find max in the other axis\n",
    "stat = np.array([[1,2,3],[4,5,6]])\n",
    "np.max(stat,axis=1)"
   ]
  },
  {
   "cell_type": "code",
   "execution_count": 128,
   "id": "6deb4f66",
   "metadata": {},
   "outputs": [
    {
     "data": {
      "text/plain": [
       "array([ 6, 15])"
      ]
     },
     "execution_count": 128,
     "metadata": {},
     "output_type": "execute_result"
    }
   ],
   "source": [
    "# sum \n",
    "np.sum(stat,axis=1)"
   ]
  },
  {
   "cell_type": "markdown",
   "id": "904abb99",
   "metadata": {},
   "source": [
    "### Reorganizing Arrays"
   ]
  },
  {
   "cell_type": "code",
   "execution_count": 130,
   "id": "c99d6047",
   "metadata": {},
   "outputs": [
    {
     "name": "stdout",
     "output_type": "stream",
     "text": [
      "[[1 2 3]\n",
      " [4 5 6]]\n"
     ]
    }
   ],
   "source": [
    "# vertical stacking\n",
    "array1 = np.array([1,2,3])\n",
    "array2 = np.array([4,5,6])\n",
    "\n",
    "r1 = np.vstack((array1,array2))\n",
    "print(r1)"
   ]
  },
  {
   "cell_type": "code",
   "execution_count": 131,
   "id": "0f209dd7",
   "metadata": {},
   "outputs": [
    {
     "name": "stdout",
     "output_type": "stream",
     "text": [
      "[1 2 3 4 5 6]\n"
     ]
    }
   ],
   "source": [
    "# horizontal stacking\n",
    "r2 = np.hstack((array1,array2))\n",
    "print(r2)"
   ]
  },
  {
   "cell_type": "markdown",
   "id": "5ca193ac",
   "metadata": {},
   "source": [
    "### Application of numpy"
   ]
  },
  {
   "cell_type": "markdown",
   "id": "5fb2d8a8",
   "metadata": {},
   "source": [
    "Mathematics: mathlab\n",
    "Ploting: matplotlib\n",
    "Back-end: pandas"
   ]
  },
  {
   "cell_type": "markdown",
   "id": "e10bff6e",
   "metadata": {},
   "source": [
    "## Pandas"
   ]
  },
  {
   "cell_type": "code",
   "execution_count": 140,
   "id": "285c71e1",
   "metadata": {},
   "outputs": [],
   "source": [
    "import pandas as pd"
   ]
  },
  {
   "cell_type": "code",
   "execution_count": 144,
   "id": "44cb9e11",
   "metadata": {},
   "outputs": [
    {
     "data": {
      "text/plain": [
       "0     Apple\n",
       "1    Banana\n",
       "2     Mango\n",
       "dtype: object"
      ]
     },
     "execution_count": 144,
     "metadata": {},
     "output_type": "execute_result"
    }
   ],
   "source": [
    "# creating series\n",
    "item = [\"Apple\",\"Banana\",\"Mango\"]\n",
    "pd.Series(item)"
   ]
  },
  {
   "cell_type": "code",
   "execution_count": 145,
   "id": "f7ed100e",
   "metadata": {},
   "outputs": [
    {
     "data": {
      "text/plain": [
       "1     Apple\n",
       "2    Banana\n",
       "3     Mango\n",
       "dtype: object"
      ]
     },
     "execution_count": 145,
     "metadata": {},
     "output_type": "execute_result"
    }
   ],
   "source": [
    "inx = [1,2,3]\n",
    "pd.Series(item,index=inx)"
   ]
  },
  {
   "cell_type": "code",
   "execution_count": 146,
   "id": "fdd231fa",
   "metadata": {},
   "outputs": [
    {
     "data": {
      "text/html": [
       "<div>\n",
       "<style scoped>\n",
       "    .dataframe tbody tr th:only-of-type {\n",
       "        vertical-align: middle;\n",
       "    }\n",
       "\n",
       "    .dataframe tbody tr th {\n",
       "        vertical-align: top;\n",
       "    }\n",
       "\n",
       "    .dataframe thead th {\n",
       "        text-align: right;\n",
       "    }\n",
       "</style>\n",
       "<table border=\"1\" class=\"dataframe\">\n",
       "  <thead>\n",
       "    <tr style=\"text-align: right;\">\n",
       "      <th></th>\n",
       "      <th>0</th>\n",
       "    </tr>\n",
       "  </thead>\n",
       "  <tbody>\n",
       "    <tr>\n",
       "      <th>0</th>\n",
       "      <td>10</td>\n",
       "    </tr>\n",
       "    <tr>\n",
       "      <th>1</th>\n",
       "      <td>20</td>\n",
       "    </tr>\n",
       "    <tr>\n",
       "      <th>2</th>\n",
       "      <td>30</td>\n",
       "    </tr>\n",
       "    <tr>\n",
       "      <th>3</th>\n",
       "      <td>40</td>\n",
       "    </tr>\n",
       "    <tr>\n",
       "      <th>4</th>\n",
       "      <td>50</td>\n",
       "    </tr>\n",
       "  </tbody>\n",
       "</table>\n",
       "</div>"
      ],
      "text/plain": [
       "    0\n",
       "0  10\n",
       "1  20\n",
       "2  30\n",
       "3  40\n",
       "4  50"
      ]
     },
     "execution_count": 146,
     "metadata": {},
     "output_type": "execute_result"
    }
   ],
   "source": [
    "# creating DataFrame\n",
    "datas = [10,20,30,40,50] # list\n",
    "df = pd.DataFrame(datas)"
   ]
  },
  {
   "cell_type": "code",
   "execution_count": 150,
   "id": "807c4147",
   "metadata": {},
   "outputs": [
    {
     "data": {
      "text/html": [
       "<div>\n",
       "<style scoped>\n",
       "    .dataframe tbody tr th:only-of-type {\n",
       "        vertical-align: middle;\n",
       "    }\n",
       "\n",
       "    .dataframe tbody tr th {\n",
       "        vertical-align: top;\n",
       "    }\n",
       "\n",
       "    .dataframe thead th {\n",
       "        text-align: right;\n",
       "    }\n",
       "</style>\n",
       "<table border=\"1\" class=\"dataframe\">\n",
       "  <thead>\n",
       "    <tr style=\"text-align: right;\">\n",
       "      <th></th>\n",
       "      <th>fName</th>\n",
       "      <th>lName</th>\n",
       "    </tr>\n",
       "  </thead>\n",
       "  <tbody>\n",
       "    <tr>\n",
       "      <th>0</th>\n",
       "      <td>Kasinphat</td>\n",
       "      <td>Ketchom</td>\n",
       "    </tr>\n",
       "    <tr>\n",
       "      <th>1</th>\n",
       "      <td>Phatsakorn</td>\n",
       "      <td>Something</td>\n",
       "    </tr>\n",
       "    <tr>\n",
       "      <th>2</th>\n",
       "      <td>Panumeth</td>\n",
       "      <td>Something</td>\n",
       "    </tr>\n",
       "  </tbody>\n",
       "</table>\n",
       "</div>"
      ],
      "text/plain": [
       "        fName      lName\n",
       "0   Kasinphat    Ketchom\n",
       "1  Phatsakorn  Something\n",
       "2    Panumeth  Something"
      ]
     },
     "execution_count": 150,
     "metadata": {},
     "output_type": "execute_result"
    }
   ],
   "source": [
    "# creating dataframe with custom key\n",
    "datas = [['Kasinphat','Ketchom'],['Phatsakorn','Something'],['Panumeth','Something']]\n",
    "cols = ['fName','lName']\n",
    "\n",
    "df = pd.DataFrame(datas,columns=cols)\n",
    "df"
   ]
  },
  {
   "cell_type": "code",
   "execution_count": null,
   "id": "f03e5878",
   "metadata": {},
   "outputs": [],
   "source": [
    "# creating dataframe from list with zip\n"
   ]
  }
 ],
 "metadata": {
  "kernelspec": {
   "display_name": "Python 3 (ipykernel)",
   "language": "python",
   "name": "python3"
  },
  "language_info": {
   "codemirror_mode": {
    "name": "ipython",
    "version": 3
   },
   "file_extension": ".py",
   "mimetype": "text/x-python",
   "name": "python",
   "nbconvert_exporter": "python",
   "pygments_lexer": "ipython3",
   "version": "3.10.8"
  }
 },
 "nbformat": 4,
 "nbformat_minor": 5
}
